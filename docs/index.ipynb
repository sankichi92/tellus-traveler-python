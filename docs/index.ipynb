{
 "cells": [
  {
   "cell_type": "markdown",
   "metadata": {},
   "source": [
    "# Getting Started"
   ]
  },
  {
   "cell_type": "markdown",
   "metadata": {},
   "source": [
    "`tellus-traveler` is an unofficial Python client for [Tellus Traveler API](https://www.tellusxdp.com/docs/travelers/)."
   ]
  },
  {
   "cell_type": "markdown",
   "metadata": {},
   "source": [
    "## Installation"
   ]
  },
  {
   "cell_type": "markdown",
   "metadata": {},
   "source": [
    "`tellus-traveler` can be installed by `pip install`:\n",
    "\n",
    "    $ pip install tellus-traveler"
   ]
  },
  {
   "cell_type": "markdown",
   "metadata": {},
   "source": [
    "## Setting the API Token"
   ]
  },
  {
   "cell_type": "markdown",
   "metadata": {},
   "source": [
    "Obtain an API token from https://www.tellusxdp.com/account/setting/api-access/ and assign it to `tellus_traveler.api_token`.\n",
    "\n",
    "Here, the token is stored in the environment variable `TELLUS_API_TOKEN`.  \n",
    "`tellus_traveler` reads this environment variable by default, so it works even without this line."
   ]
  },
  {
   "cell_type": "code",
   "execution_count": 1,
   "metadata": {},
   "outputs": [],
   "source": [
    "%load_ext dotenv\n",
    "%dotenv\n",
    "\n",
    "import os\n",
    "import tellus_traveler\n",
    "\n",
    "tellus_traveler.api_token = os.environ.get(\"TELLUS_API_TOKEN\")"
   ]
  },
  {
   "cell_type": "markdown",
   "metadata": {},
   "source": [
    "## Getting the List of Datasets"
   ]
  },
  {
   "cell_type": "markdown",
   "metadata": {},
   "source": [
    "You can get the list of all datasets by `tellus_traveler.datasets()`."
   ]
  },
  {
   "cell_type": "code",
   "execution_count": 2,
   "metadata": {},
   "outputs": [
    {
     "data": {
      "text/plain": [
       "30"
      ]
     },
     "execution_count": 2,
     "metadata": {},
     "output_type": "execute_result"
    }
   ],
   "source": [
    "datasets = tellus_traveler.datasets()\n",
    "len(datasets)"
   ]
  },
  {
   "cell_type": "code",
   "execution_count": 3,
   "metadata": {},
   "outputs": [
    {
     "data": {
      "text/plain": [
       "{'id': '1a41a4b1-4594-431f-95fb-82f9bdc35d6b',\n",
       " 'provider': {'name': 'テルース', 'description': 'テルースが提供する公式データです'},\n",
       " 'tags': [],\n",
       " 'published_at': '2021-10-08T14:24:12.960797+09:00',\n",
       " 'can_order_access_right': True,\n",
       " 'can_order_cut_data': False,\n",
       " 'is_order_required': False,\n",
       " 'minimum_purchase_square_kilometer': 0,\n",
       " 'square_kilometer_per_price': 0,\n",
       " 'related_site': 'https://www.eorc.jaxa.jp/ALOS/a/jp/index_j.htm',\n",
       " 'copyright': '©JAXA',\n",
       " 'properties': ['sat:orbit_state',\n",
       "  'sar:observation_direction',\n",
       "  'view:off_nadir',\n",
       "  'sar:polarizations',\n",
       "  'sar:frequency_band',\n",
       "  'sat:relative_orbit',\n",
       "  'tellus:sat_frame',\n",
       "  'sar:instrument_mode',\n",
       "  'processing:level',\n",
       "  'sar:product_type',\n",
       "  'gsd',\n",
       "  'palsar2:beam'],\n",
       " 'prices': [],\n",
       " 'name': '【Tellus公式】PALSAR-2_L1.1',\n",
       " 'description': 'JAXAが開発したPALSAR-2というSARセンサのデータです。',\n",
       " 'terms_of_use': '/api/traveler/v1/datasets/1a41a4b1-4594-431f-95fb-82f9bdc35d6b/terms-of-use-url/',\n",
       " 'manual': '/api/traveler/v1/datasets/1a41a4b1-4594-431f-95fb-82f9bdc35d6b/manual-url/',\n",
       " 'permission': {'allow_network_type': 'tellus'}}"
      ]
     },
     "execution_count": 3,
     "metadata": {},
     "output_type": "execute_result"
    }
   ],
   "source": [
    "datasets[0]"
   ]
  },
  {
   "cell_type": "markdown",
   "metadata": {},
   "source": [
    "Following codes get dataset that contain \"AVNIR-2\" in their `name`."
   ]
  },
  {
   "cell_type": "code",
   "execution_count": 4,
   "metadata": {},
   "outputs": [
    {
     "data": {
      "text/plain": [
       "{'id': 'ea71ef6e-9569-49fc-be16-ba98d876fb73',\n",
       " 'provider': {'name': 'テルース', 'description': 'テルースが提供する公式データです'},\n",
       " 'tags': [],\n",
       " 'published_at': '2021-10-08T14:26:06.089400+09:00',\n",
       " 'can_order_access_right': True,\n",
       " 'can_order_cut_data': False,\n",
       " 'is_order_required': False,\n",
       " 'minimum_purchase_square_kilometer': 0,\n",
       " 'square_kilometer_per_price': 0,\n",
       " 'related_site': 'https://www.eorc.jaxa.jp/ALOS/jp/alos/a1_about_j.htm',\n",
       " 'copyright': '©JAXA',\n",
       " 'properties': ['sat:orbit_state',\n",
       "  'tellus:pointing_angle',\n",
       "  'tellus:bands',\n",
       "  'sat:relative_orbit',\n",
       "  'tellus:sat_frame',\n",
       "  'processing:level',\n",
       "  'eo:cloud_cover',\n",
       "  'gsd'],\n",
       " 'prices': [],\n",
       " 'name': '【Tellus公式】AVNIR-2_1B1',\n",
       " 'description': '解像度10mの広域撮影を目的とした光学カラー画像です。\\nJAXAのAVNIR-2センサデータから生成されています。',\n",
       " 'terms_of_use': '/api/traveler/v1/datasets/ea71ef6e-9569-49fc-be16-ba98d876fb73/terms-of-use-url/',\n",
       " 'manual': '/api/traveler/v1/datasets/ea71ef6e-9569-49fc-be16-ba98d876fb73/manual-url/',\n",
       " 'permission': {'allow_network_type': 'global'}}"
      ]
     },
     "execution_count": 4,
     "metadata": {},
     "output_type": "execute_result"
    }
   ],
   "source": [
    "avnir2_dataset = next(dataset for dataset in datasets if \"AVNIR-2\" in dataset[\"name\"])\n",
    "avnir2_dataset"
   ]
  },
  {
   "cell_type": "markdown",
   "metadata": {},
   "source": [
    "## Searching Scenes"
   ]
  },
  {
   "cell_type": "markdown",
   "metadata": {},
   "source": [
    "Let's search scenes that match the following conditions by `tellus_traveler.search()`:\n",
    "\n",
    "- Dataset: AVNIR-2 L1B1\n",
    "- Location: Chuo-ku (中央区), Tokyo, Japan\n",
    "- Year: 2011"
   ]
  },
  {
   "cell_type": "markdown",
   "metadata": {},
   "source": [
    "First, get the bounding box of Chuo-ku from https://nlftp.mlit.go.jp/ksj/gml/datalist/KsjTmplt-N03-v3_1.html."
   ]
  },
  {
   "cell_type": "code",
   "execution_count": 5,
   "metadata": {},
   "outputs": [
    {
     "data": {
      "text/plain": [
       "array([139.75431689,  35.6460388 , 139.79275161,  35.69657131])"
      ]
     },
     "execution_count": 5,
     "metadata": {},
     "output_type": "execute_result"
    }
   ],
   "source": [
    "import geopandas as gpd\n",
    "\n",
    "tokyo_gdf = gpd.read_file(\n",
    "    \"/vsizip//vsicurl/https://nlftp.mlit.go.jp/ksj/gml/data/N03/N03-2023/N03-20230101_13_GML.zip/N03-23_13_230101.geojson\"\n",
    ")\n",
    "chuo_ku_bbox = tokyo_gdf[tokyo_gdf[\"N03_004\"] == \"中央区\"].total_bounds\n",
    "chuo_ku_bbox"
   ]
  },
  {
   "cell_type": "markdown",
   "metadata": {},
   "source": [
    "Call `tellus_traveler.search()` with the conditions as arguments."
   ]
  },
  {
   "cell_type": "code",
   "execution_count": 6,
   "metadata": {},
   "outputs": [
    {
     "data": {
      "text/plain": [
       "3"
      ]
     },
     "execution_count": 6,
     "metadata": {},
     "output_type": "execute_result"
    }
   ],
   "source": [
    "search = tellus_traveler.search(\n",
    "    datasets=[avnir2_dataset[\"id\"]],\n",
    "    bbox=chuo_ku_bbox,\n",
    "    start_datetime=\"2011-01-01T00:00:00Z\",\n",
    "    end_datetime=\"2012-01-01T00:00:00Z\",\n",
    ")\n",
    "search.total()"
   ]
  },
  {
   "cell_type": "markdown",
   "metadata": {},
   "source": [
    "`tellus_traveler.search()` returns a `SceneSearch` object.\n",
    "\n",
    "You can get the search results by `SceneSearch.scenes()` as `Scene` objects."
   ]
  },
  {
   "cell_type": "code",
   "execution_count": 7,
   "metadata": {},
   "outputs": [
    {
     "data": {
      "text/plain": [
       "[<tellus_traveler.Scene id=3b1100f4-ee85-41d7-bad8-ad42e42b7f02>,\n",
       " <tellus_traveler.Scene id=3828deb7-6f81-4cb0-b84b-829cec3744fb>,\n",
       " <tellus_traveler.Scene id=1772c62e-096a-4db4-8926-95a5476913a0>]"
      ]
     },
     "execution_count": 7,
     "metadata": {},
     "output_type": "execute_result"
    }
   ],
   "source": [
    "scenes = list(search.scenes())\n",
    "scenes"
   ]
  },
  {
   "cell_type": "markdown",
   "metadata": {},
   "source": [
    "`Scene` wraps a GeoJSON Feature. It has [`__geo_interface__`](https://gist.github.com/sgillies/2217756) attribute."
   ]
  },
  {
   "cell_type": "code",
   "execution_count": 8,
   "metadata": {},
   "outputs": [
    {
     "data": {
      "text/plain": [
       "{'dataset_id': 'ea71ef6e-9569-49fc-be16-ba98d876fb73',\n",
       " 'geometry': {'coordinates': [[[139.2525874, 35.3411187],\n",
       "    [140.0272089, 35.1937215],\n",
       "    [140.2308572, 35.8955301],\n",
       "    [139.4497217, 36.0440731],\n",
       "    [139.2525874, 35.3411187]]],\n",
       "  'type': 'Polygon'},\n",
       " 'id': '3b1100f4-ee85-41d7-bad8-ad42e42b7f02',\n",
       " 'type': 'Feature',\n",
       " 'properties': {'tellus:pointing_angle': 0.0,\n",
       "  'processing:level': 'L1B1',\n",
       "  'sat:relative_orbit': 68,\n",
       "  'start_datetime': '2011-01-25T01:31:27.914116+00:00',\n",
       "  'end_datetime': '2011-01-25T01:31:27.914116+00:00',\n",
       "  'tellus:name': 'ALAV2A266502880',\n",
       "  'tellus:bands': ['band1', 'band2', 'band3', 'band4'],\n",
       "  'created': '2021-09-22T09:15:12.727554+00:00',\n",
       "  'tellus:can_ordered': True,\n",
       "  'tellus:sat_frame': 2880,\n",
       "  'tellus:published_datetime': '2021-09-22T09:15:43.574809+00:00',\n",
       "  'sat:orbit_state': 'descending',\n",
       "  'eo:cloud_cover': 1.0,\n",
       "  'gsd': 10.0,\n",
       "  'updated': '2021-10-22T22:52:09.266133+00:00'}}"
      ]
     },
     "execution_count": 8,
     "metadata": {},
     "output_type": "execute_result"
    }
   ],
   "source": [
    "scenes[0].__geo_interface__"
   ]
  },
  {
   "cell_type": "markdown",
   "metadata": {},
   "source": [
    "Let's explore the search results with [GeoPandas](https://geopandas.org/)."
   ]
  },
  {
   "cell_type": "code",
   "execution_count": 9,
   "metadata": {},
   "outputs": [
    {
     "data": {
      "text/html": [
       "<div>\n",
       "<style scoped>\n",
       "    .dataframe tbody tr th:only-of-type {\n",
       "        vertical-align: middle;\n",
       "    }\n",
       "\n",
       "    .dataframe tbody tr th {\n",
       "        vertical-align: top;\n",
       "    }\n",
       "\n",
       "    .dataframe thead th {\n",
       "        text-align: right;\n",
       "    }\n",
       "</style>\n",
       "<table border=\"1\" class=\"dataframe\">\n",
       "  <thead>\n",
       "    <tr style=\"text-align: right;\">\n",
       "      <th></th>\n",
       "      <th>geometry</th>\n",
       "      <th>tellus:pointing_angle</th>\n",
       "      <th>processing:level</th>\n",
       "      <th>sat:relative_orbit</th>\n",
       "      <th>start_datetime</th>\n",
       "      <th>end_datetime</th>\n",
       "      <th>tellus:name</th>\n",
       "      <th>tellus:bands</th>\n",
       "      <th>created</th>\n",
       "      <th>tellus:can_ordered</th>\n",
       "      <th>tellus:sat_frame</th>\n",
       "      <th>tellus:published_datetime</th>\n",
       "      <th>sat:orbit_state</th>\n",
       "      <th>eo:cloud_cover</th>\n",
       "      <th>gsd</th>\n",
       "      <th>updated</th>\n",
       "    </tr>\n",
       "  </thead>\n",
       "  <tbody>\n",
       "    <tr>\n",
       "      <th>0</th>\n",
       "      <td>POLYGON ((139.25259 35.34112, 140.02721 35.193...</td>\n",
       "      <td>0.0</td>\n",
       "      <td>L1B1</td>\n",
       "      <td>68</td>\n",
       "      <td>2011-01-25T01:31:27.914116+00:00</td>\n",
       "      <td>2011-01-25T01:31:27.914116+00:00</td>\n",
       "      <td>ALAV2A266502880</td>\n",
       "      <td>[band1, band2, band3, band4]</td>\n",
       "      <td>2021-09-22T09:15:12.727554+00:00</td>\n",
       "      <td>True</td>\n",
       "      <td>2880</td>\n",
       "      <td>2021-09-22T09:15:43.574809+00:00</td>\n",
       "      <td>descending</td>\n",
       "      <td>1.0</td>\n",
       "      <td>10.0</td>\n",
       "      <td>2021-10-22T22:52:09.266133+00:00</td>\n",
       "    </tr>\n",
       "    <tr>\n",
       "      <th>1</th>\n",
       "      <td>POLYGON ((139.25001 35.34164, 140.02455 35.194...</td>\n",
       "      <td>0.0</td>\n",
       "      <td>L1B1</td>\n",
       "      <td>68</td>\n",
       "      <td>2011-03-12T01:30:24.577177+00:00</td>\n",
       "      <td>2011-03-12T01:30:24.577177+00:00</td>\n",
       "      <td>ALAV2A273212880</td>\n",
       "      <td>[band1, band2, band3, band4]</td>\n",
       "      <td>2021-09-22T05:34:37.723679+00:00</td>\n",
       "      <td>True</td>\n",
       "      <td>2880</td>\n",
       "      <td>2021-09-22T05:35:07.823797+00:00</td>\n",
       "      <td>descending</td>\n",
       "      <td>1.0</td>\n",
       "      <td>10.0</td>\n",
       "      <td>2021-10-22T20:13:49.951839+00:00</td>\n",
       "    </tr>\n",
       "    <tr>\n",
       "      <th>2</th>\n",
       "      <td>POLYGON ((138.99692 35.44425, 139.77295 35.295...</td>\n",
       "      <td>1.9</td>\n",
       "      <td>L1B1</td>\n",
       "      <td>69</td>\n",
       "      <td>2011-03-29T01:32:06.633250+00:00</td>\n",
       "      <td>2011-03-29T01:32:06.633250+00:00</td>\n",
       "      <td>ALAV2A275692880</td>\n",
       "      <td>[band1, band2, band3, band4]</td>\n",
       "      <td>2021-09-22T04:47:09.092590+00:00</td>\n",
       "      <td>True</td>\n",
       "      <td>2880</td>\n",
       "      <td>2021-09-22T04:47:40.257240+00:00</td>\n",
       "      <td>descending</td>\n",
       "      <td>1.0</td>\n",
       "      <td>10.0</td>\n",
       "      <td>2021-10-22T13:30:26.951646+00:00</td>\n",
       "    </tr>\n",
       "  </tbody>\n",
       "</table>\n",
       "</div>"
      ],
      "text/plain": [
       "                                            geometry  tellus:pointing_angle  \\\n",
       "0  POLYGON ((139.25259 35.34112, 140.02721 35.193...                    0.0   \n",
       "1  POLYGON ((139.25001 35.34164, 140.02455 35.194...                    0.0   \n",
       "2  POLYGON ((138.99692 35.44425, 139.77295 35.295...                    1.9   \n",
       "\n",
       "  processing:level  sat:relative_orbit                    start_datetime  \\\n",
       "0             L1B1                  68  2011-01-25T01:31:27.914116+00:00   \n",
       "1             L1B1                  68  2011-03-12T01:30:24.577177+00:00   \n",
       "2             L1B1                  69  2011-03-29T01:32:06.633250+00:00   \n",
       "\n",
       "                       end_datetime      tellus:name  \\\n",
       "0  2011-01-25T01:31:27.914116+00:00  ALAV2A266502880   \n",
       "1  2011-03-12T01:30:24.577177+00:00  ALAV2A273212880   \n",
       "2  2011-03-29T01:32:06.633250+00:00  ALAV2A275692880   \n",
       "\n",
       "                   tellus:bands                           created  \\\n",
       "0  [band1, band2, band3, band4]  2021-09-22T09:15:12.727554+00:00   \n",
       "1  [band1, band2, band3, band4]  2021-09-22T05:34:37.723679+00:00   \n",
       "2  [band1, band2, band3, band4]  2021-09-22T04:47:09.092590+00:00   \n",
       "\n",
       "   tellus:can_ordered  tellus:sat_frame         tellus:published_datetime  \\\n",
       "0                True              2880  2021-09-22T09:15:43.574809+00:00   \n",
       "1                True              2880  2021-09-22T05:35:07.823797+00:00   \n",
       "2                True              2880  2021-09-22T04:47:40.257240+00:00   \n",
       "\n",
       "  sat:orbit_state  eo:cloud_cover   gsd                           updated  \n",
       "0      descending             1.0  10.0  2021-10-22T22:52:09.266133+00:00  \n",
       "1      descending             1.0  10.0  2021-10-22T20:13:49.951839+00:00  \n",
       "2      descending             1.0  10.0  2021-10-22T13:30:26.951646+00:00  "
      ]
     },
     "execution_count": 9,
     "metadata": {},
     "output_type": "execute_result"
    }
   ],
   "source": [
    "search_results_gdf = gpd.GeoDataFrame.from_features(scenes)\n",
    "search_results_gdf"
   ]
  },
  {
   "cell_type": "code",
   "execution_count": 10,
   "metadata": {},
   "outputs": [
    {
     "name": "stderr",
     "output_type": "stream",
     "text": [
      "/Users/sankichi92/repos/tellus-traveler-python/.venv/lib/python3.11/site-packages/geopandas/explore.py:400: FutureWarning: is_categorical_dtype is deprecated and will be removed in a future version. Use isinstance(dtype, CategoricalDtype) instead\n",
      "  elif pd.api.types.is_categorical_dtype(gdf[column]):\n"
     ]
    },
    {
     "data": {
      "text/html": [
       "<div style=\"width:100%;\"><div style=\"position:relative;width:100%;height:0;padding-bottom:60%;\"><span style=\"color:#565656\">Make this Notebook Trusted to load map: File -> Trust Notebook</span><iframe srcdoc=\"&lt;!DOCTYPE html&gt;\n",
       "&lt;html&gt;\n",
       "&lt;head&gt;\n",
       "    \n",
       "    &lt;meta http-equiv=&quot;content-type&quot; content=&quot;text/html; charset=UTF-8&quot; /&gt;\n",
       "    \n",
       "        &lt;script&gt;\n",
       "            L_NO_TOUCH = false;\n",
       "            L_DISABLE_3D = false;\n",
       "        &lt;/script&gt;\n",
       "    \n",
       "    &lt;style&gt;html, body {width: 100%;height: 100%;margin: 0;padding: 0;}&lt;/style&gt;\n",
       "    &lt;style&gt;#map {position:absolute;top:0;bottom:0;right:0;left:0;}&lt;/style&gt;\n",
       "    &lt;script src=&quot;https://cdn.jsdelivr.net/npm/leaflet@1.9.3/dist/leaflet.js&quot;&gt;&lt;/script&gt;\n",
       "    &lt;script src=&quot;https://code.jquery.com/jquery-1.12.4.min.js&quot;&gt;&lt;/script&gt;\n",
       "    &lt;script src=&quot;https://cdn.jsdelivr.net/npm/bootstrap@5.2.2/dist/js/bootstrap.bundle.min.js&quot;&gt;&lt;/script&gt;\n",
       "    &lt;script src=&quot;https://cdnjs.cloudflare.com/ajax/libs/Leaflet.awesome-markers/2.0.2/leaflet.awesome-markers.js&quot;&gt;&lt;/script&gt;\n",
       "    &lt;link rel=&quot;stylesheet&quot; href=&quot;https://cdn.jsdelivr.net/npm/leaflet@1.9.3/dist/leaflet.css&quot;/&gt;\n",
       "    &lt;link rel=&quot;stylesheet&quot; href=&quot;https://cdn.jsdelivr.net/npm/bootstrap@5.2.2/dist/css/bootstrap.min.css&quot;/&gt;\n",
       "    &lt;link rel=&quot;stylesheet&quot; href=&quot;https://netdna.bootstrapcdn.com/bootstrap/3.0.0/css/bootstrap.min.css&quot;/&gt;\n",
       "    &lt;link rel=&quot;stylesheet&quot; href=&quot;https://cdn.jsdelivr.net/npm/@fortawesome/fontawesome-free@6.2.0/css/all.min.css&quot;/&gt;\n",
       "    &lt;link rel=&quot;stylesheet&quot; href=&quot;https://cdnjs.cloudflare.com/ajax/libs/Leaflet.awesome-markers/2.0.2/leaflet.awesome-markers.css&quot;/&gt;\n",
       "    &lt;link rel=&quot;stylesheet&quot; href=&quot;https://cdn.jsdelivr.net/gh/python-visualization/folium/folium/templates/leaflet.awesome.rotate.min.css&quot;/&gt;\n",
       "    \n",
       "            &lt;meta name=&quot;viewport&quot; content=&quot;width=device-width,\n",
       "                initial-scale=1.0, maximum-scale=1.0, user-scalable=no&quot; /&gt;\n",
       "            &lt;style&gt;\n",
       "                #map_3a7b6acedb927da72aa105a42823ae1c {\n",
       "                    position: relative;\n",
       "                    width: 100.0%;\n",
       "                    height: 100.0%;\n",
       "                    left: 0.0%;\n",
       "                    top: 0.0%;\n",
       "                }\n",
       "                .leaflet-container { font-size: 1rem; }\n",
       "            &lt;/style&gt;\n",
       "        \n",
       "    \n",
       "                    &lt;style&gt;\n",
       "                        .foliumtooltip {\n",
       "                            \n",
       "                        }\n",
       "                       .foliumtooltip table{\n",
       "                            margin: auto;\n",
       "                        }\n",
       "                        .foliumtooltip tr{\n",
       "                            text-align: left;\n",
       "                        }\n",
       "                        .foliumtooltip th{\n",
       "                            padding: 2px; padding-right: 8px;\n",
       "                        }\n",
       "                    &lt;/style&gt;\n",
       "            \n",
       "    \n",
       "    &lt;script src=&quot;https://code.jquery.com/ui/1.12.1/jquery-ui.js&quot;&gt;&lt;/script&gt;\n",
       "    &lt;script&gt;$( function() {\n",
       "        $( &quot;.maplegend&quot; ).draggable({\n",
       "            start: function (event, ui) {\n",
       "                $(this).css({\n",
       "                    right: &quot;auto&quot;,\n",
       "                    top: &quot;auto&quot;,\n",
       "                    bottom: &quot;auto&quot;\n",
       "                });\n",
       "            }\n",
       "        });\n",
       "    });\n",
       "    &lt;/script&gt;\n",
       "    &lt;style type=&#x27;text/css&#x27;&gt;\n",
       "      .maplegend {\n",
       "        position: absolute;\n",
       "        z-index:9999;\n",
       "        background-color: rgba(255, 255, 255, .8);\n",
       "        border-radius: 5px;\n",
       "        box-shadow: 0 0 15px rgba(0,0,0,0.2);\n",
       "        padding: 10px;\n",
       "        font: 12px/14px Arial, Helvetica, sans-serif;\n",
       "        right: 10px;\n",
       "        bottom: 20px;\n",
       "      }\n",
       "      .maplegend .legend-title {\n",
       "        text-align: left;\n",
       "        margin-bottom: 5px;\n",
       "        font-weight: bold;\n",
       "        }\n",
       "      .maplegend .legend-scale ul {\n",
       "        margin: 0;\n",
       "        margin-bottom: 0px;\n",
       "        padding: 0;\n",
       "        float: left;\n",
       "        list-style: none;\n",
       "        }\n",
       "      .maplegend .legend-scale ul li {\n",
       "        list-style: none;\n",
       "        margin-left: 0;\n",
       "        line-height: 16px;\n",
       "        margin-bottom: 2px;\n",
       "        }\n",
       "      .maplegend ul.legend-labels li span {\n",
       "        display: block;\n",
       "        float: left;\n",
       "        height: 14px;\n",
       "        width: 14px;\n",
       "        margin-right: 5px;\n",
       "        margin-left: 0;\n",
       "        border: 0px solid #ccc;\n",
       "        }\n",
       "      .maplegend .legend-source {\n",
       "        color: #777;\n",
       "        clear: both;\n",
       "        }\n",
       "      .maplegend a {\n",
       "        color: #777;\n",
       "        }\n",
       "    &lt;/style&gt;\n",
       "    \n",
       "&lt;/head&gt;\n",
       "&lt;body&gt;\n",
       "    \n",
       "    \n",
       "    &lt;div id=&#x27;maplegend tellus:name&#x27; class=&#x27;maplegend&#x27;&gt;\n",
       "        &lt;div class=&#x27;legend-title&#x27;&gt;tellus:name&lt;/div&gt;\n",
       "        &lt;div class=&#x27;legend-scale&#x27;&gt;\n",
       "            &lt;ul class=&#x27;legend-labels&#x27;&gt;\n",
       "                &lt;li&gt;&lt;span style=&#x27;background:#1f77b4&#x27;&gt;&lt;/span&gt;ALAV2A266502880&lt;/li&gt;\n",
       "                &lt;li&gt;&lt;span style=&#x27;background:#8c564b&#x27;&gt;&lt;/span&gt;ALAV2A273212880&lt;/li&gt;\n",
       "                &lt;li&gt;&lt;span style=&#x27;background:#9edae5&#x27;&gt;&lt;/span&gt;ALAV2A275692880&lt;/li&gt;\n",
       "            &lt;/ul&gt;\n",
       "        &lt;/div&gt;\n",
       "    &lt;/div&gt;\n",
       "    \n",
       "    \n",
       "            &lt;div class=&quot;folium-map&quot; id=&quot;map_3a7b6acedb927da72aa105a42823ae1c&quot; &gt;&lt;/div&gt;\n",
       "        \n",
       "&lt;/body&gt;\n",
       "&lt;script&gt;\n",
       "    \n",
       "    \n",
       "            var map_3a7b6acedb927da72aa105a42823ae1c = L.map(\n",
       "                &quot;map_3a7b6acedb927da72aa105a42823ae1c&quot;,\n",
       "                {\n",
       "                    center: [35.670216350000004, 139.61388875],\n",
       "                    crs: L.CRS.EPSG3857,\n",
       "                    zoom: 10,\n",
       "                    zoomControl: true,\n",
       "                    preferCanvas: false,\n",
       "                }\n",
       "            );\n",
       "            L.control.scale().addTo(map_3a7b6acedb927da72aa105a42823ae1c);\n",
       "\n",
       "            \n",
       "\n",
       "        \n",
       "    \n",
       "            var tile_layer_aac21299317ffdab8ab447352dbadb6a = L.tileLayer(\n",
       "                &quot;https://{s}.tile.openstreetmap.org/{z}/{x}/{y}.png&quot;,\n",
       "                {&quot;attribution&quot;: &quot;Data by \\u0026copy; \\u003ca target=\\&quot;_blank\\&quot; href=\\&quot;http://openstreetmap.org\\&quot;\\u003eOpenStreetMap\\u003c/a\\u003e, under \\u003ca target=\\&quot;_blank\\&quot; href=\\&quot;http://www.openstreetmap.org/copyright\\&quot;\\u003eODbL\\u003c/a\\u003e.&quot;, &quot;detectRetina&quot;: false, &quot;maxNativeZoom&quot;: 18, &quot;maxZoom&quot;: 18, &quot;minZoom&quot;: 0, &quot;noWrap&quot;: false, &quot;opacity&quot;: 1, &quot;subdomains&quot;: &quot;abc&quot;, &quot;tms&quot;: false}\n",
       "            ).addTo(map_3a7b6acedb927da72aa105a42823ae1c);\n",
       "        \n",
       "    \n",
       "            map_3a7b6acedb927da72aa105a42823ae1c.fitBounds(\n",
       "                [[35.1937215, 138.9969203], [36.1467112, 140.2308572]],\n",
       "                {}\n",
       "            );\n",
       "        \n",
       "    \n",
       "        function geo_json_c2a9990a5116b47f7d39a91fab48c2fe_styler(feature) {\n",
       "            switch(feature.id) {\n",
       "                case &quot;0&quot;: \n",
       "                    return {&quot;color&quot;: &quot;#1f77b4&quot;, &quot;fillColor&quot;: &quot;#1f77b4&quot;, &quot;fillOpacity&quot;: 0.5, &quot;weight&quot;: 2};\n",
       "                case &quot;1&quot;: \n",
       "                    return {&quot;color&quot;: &quot;#8c564b&quot;, &quot;fillColor&quot;: &quot;#8c564b&quot;, &quot;fillOpacity&quot;: 0.5, &quot;weight&quot;: 2};\n",
       "                default:\n",
       "                    return {&quot;color&quot;: &quot;#9edae5&quot;, &quot;fillColor&quot;: &quot;#9edae5&quot;, &quot;fillOpacity&quot;: 0.5, &quot;weight&quot;: 2};\n",
       "            }\n",
       "        }\n",
       "        function geo_json_c2a9990a5116b47f7d39a91fab48c2fe_highlighter(feature) {\n",
       "            switch(feature.id) {\n",
       "                default:\n",
       "                    return {&quot;fillOpacity&quot;: 0.75};\n",
       "            }\n",
       "        }\n",
       "        function geo_json_c2a9990a5116b47f7d39a91fab48c2fe_pointToLayer(feature, latlng) {\n",
       "            var opts = {&quot;bubblingMouseEvents&quot;: true, &quot;color&quot;: &quot;#3388ff&quot;, &quot;dashArray&quot;: null, &quot;dashOffset&quot;: null, &quot;fill&quot;: true, &quot;fillColor&quot;: &quot;#3388ff&quot;, &quot;fillOpacity&quot;: 0.2, &quot;fillRule&quot;: &quot;evenodd&quot;, &quot;lineCap&quot;: &quot;round&quot;, &quot;lineJoin&quot;: &quot;round&quot;, &quot;opacity&quot;: 1.0, &quot;radius&quot;: 2, &quot;stroke&quot;: true, &quot;weight&quot;: 3};\n",
       "            \n",
       "            let style = geo_json_c2a9990a5116b47f7d39a91fab48c2fe_styler(feature)\n",
       "            Object.assign(opts, style)\n",
       "            \n",
       "            return new L.CircleMarker(latlng, opts)\n",
       "        }\n",
       "\n",
       "        function geo_json_c2a9990a5116b47f7d39a91fab48c2fe_onEachFeature(feature, layer) {\n",
       "            layer.on({\n",
       "                mouseout: function(e) {\n",
       "                    if(typeof e.target.setStyle === &quot;function&quot;){\n",
       "                        geo_json_c2a9990a5116b47f7d39a91fab48c2fe.resetStyle(e.target);\n",
       "                    }\n",
       "                },\n",
       "                mouseover: function(e) {\n",
       "                    if(typeof e.target.setStyle === &quot;function&quot;){\n",
       "                        const highlightStyle = geo_json_c2a9990a5116b47f7d39a91fab48c2fe_highlighter(e.target.feature)\n",
       "                        e.target.setStyle(highlightStyle);\n",
       "                    }\n",
       "                },\n",
       "            });\n",
       "        };\n",
       "        var geo_json_c2a9990a5116b47f7d39a91fab48c2fe = L.geoJson(null, {\n",
       "                onEachFeature: geo_json_c2a9990a5116b47f7d39a91fab48c2fe_onEachFeature,\n",
       "            \n",
       "                style: geo_json_c2a9990a5116b47f7d39a91fab48c2fe_styler,\n",
       "                pointToLayer: geo_json_c2a9990a5116b47f7d39a91fab48c2fe_pointToLayer\n",
       "        });\n",
       "\n",
       "        function geo_json_c2a9990a5116b47f7d39a91fab48c2fe_add (data) {\n",
       "            geo_json_c2a9990a5116b47f7d39a91fab48c2fe\n",
       "                .addData(data)\n",
       "                .addTo(map_3a7b6acedb927da72aa105a42823ae1c);\n",
       "        }\n",
       "            geo_json_c2a9990a5116b47f7d39a91fab48c2fe_add({&quot;bbox&quot;: [138.9969203, 35.1937215, 140.2308572, 36.1467112], &quot;features&quot;: [{&quot;bbox&quot;: [139.2525874, 35.1937215, 140.2308572, 36.0440731], &quot;geometry&quot;: {&quot;coordinates&quot;: [[[139.2525874, 35.3411187], [140.0272089, 35.1937215], [140.2308572, 35.8955301], [139.4497217, 36.0440731], [139.2525874, 35.3411187]]], &quot;type&quot;: &quot;Polygon&quot;}, &quot;id&quot;: &quot;0&quot;, &quot;properties&quot;: {&quot;__folium_color&quot;: &quot;#1f77b4&quot;, &quot;created&quot;: &quot;2021-09-22T09:15:12.727554+00:00&quot;, &quot;end_datetime&quot;: &quot;2011-01-25T01:31:27.914116+00:00&quot;, &quot;eo:cloud_cover&quot;: 1.0, &quot;gsd&quot;: 10.0, &quot;processing:level&quot;: &quot;L1B1&quot;, &quot;sat:orbit_state&quot;: &quot;descending&quot;, &quot;sat:relative_orbit&quot;: 68, &quot;start_datetime&quot;: &quot;2011-01-25T01:31:27.914116+00:00&quot;, &quot;tellus:bands&quot;: [&quot;band1&quot;, &quot;band2&quot;, &quot;band3&quot;, &quot;band4&quot;], &quot;tellus:can_ordered&quot;: true, &quot;tellus:name&quot;: &quot;ALAV2A266502880&quot;, &quot;tellus:pointing_angle&quot;: 0.0, &quot;tellus:published_datetime&quot;: &quot;2021-09-22T09:15:43.574809+00:00&quot;, &quot;tellus:sat_frame&quot;: 2880, &quot;updated&quot;: &quot;2021-10-22T22:52:09.266133+00:00&quot;}, &quot;type&quot;: &quot;Feature&quot;}, {&quot;bbox&quot;: [139.2500135, 35.1943315, 140.2281045, 36.044608], &quot;geometry&quot;: {&quot;coordinates&quot;: [[[139.2500135, 35.341636], [140.0245532, 35.1943315], [140.2281045, 35.8961588], [139.4470507, 36.044608], [139.2500135, 35.341636]]], &quot;type&quot;: &quot;Polygon&quot;}, &quot;id&quot;: &quot;1&quot;, &quot;properties&quot;: {&quot;__folium_color&quot;: &quot;#8c564b&quot;, &quot;created&quot;: &quot;2021-09-22T05:34:37.723679+00:00&quot;, &quot;end_datetime&quot;: &quot;2011-03-12T01:30:24.577177+00:00&quot;, &quot;eo:cloud_cover&quot;: 1.0, &quot;gsd&quot;: 10.0, &quot;processing:level&quot;: &quot;L1B1&quot;, &quot;sat:orbit_state&quot;: &quot;descending&quot;, &quot;sat:relative_orbit&quot;: 68, &quot;start_datetime&quot;: &quot;2011-03-12T01:30:24.577177+00:00&quot;, &quot;tellus:bands&quot;: [&quot;band1&quot;, &quot;band2&quot;, &quot;band3&quot;, &quot;band4&quot;], &quot;tellus:can_ordered&quot;: true, &quot;tellus:name&quot;: &quot;ALAV2A273212880&quot;, &quot;tellus:pointing_angle&quot;: 0.0, &quot;tellus:published_datetime&quot;: &quot;2021-09-22T05:35:07.823797+00:00&quot;, &quot;tellus:sat_frame&quot;: 2880, &quot;updated&quot;: &quot;2021-10-22T20:13:49.951839+00:00&quot;}, &quot;type&quot;: &quot;Feature&quot;}, {&quot;bbox&quot;: [138.9969203, 35.29503, 139.9790912, 36.1467112], &quot;geometry&quot;: {&quot;coordinates&quot;: [[[138.9969203, 35.4442474], [139.7729523, 35.29503], [139.9790912, 35.9963541], [139.1965042, 36.1467112], [138.9969203, 35.4442474]]], &quot;type&quot;: &quot;Polygon&quot;}, &quot;id&quot;: &quot;2&quot;, &quot;properties&quot;: {&quot;__folium_color&quot;: &quot;#9edae5&quot;, &quot;created&quot;: &quot;2021-09-22T04:47:09.092590+00:00&quot;, &quot;end_datetime&quot;: &quot;2011-03-29T01:32:06.633250+00:00&quot;, &quot;eo:cloud_cover&quot;: 1.0, &quot;gsd&quot;: 10.0, &quot;processing:level&quot;: &quot;L1B1&quot;, &quot;sat:orbit_state&quot;: &quot;descending&quot;, &quot;sat:relative_orbit&quot;: 69, &quot;start_datetime&quot;: &quot;2011-03-29T01:32:06.633250+00:00&quot;, &quot;tellus:bands&quot;: [&quot;band1&quot;, &quot;band2&quot;, &quot;band3&quot;, &quot;band4&quot;], &quot;tellus:can_ordered&quot;: true, &quot;tellus:name&quot;: &quot;ALAV2A275692880&quot;, &quot;tellus:pointing_angle&quot;: 1.9, &quot;tellus:published_datetime&quot;: &quot;2021-09-22T04:47:40.257240+00:00&quot;, &quot;tellus:sat_frame&quot;: 2880, &quot;updated&quot;: &quot;2021-10-22T13:30:26.951646+00:00&quot;}, &quot;type&quot;: &quot;Feature&quot;}], &quot;type&quot;: &quot;FeatureCollection&quot;});\n",
       "\n",
       "        \n",
       "    \n",
       "    geo_json_c2a9990a5116b47f7d39a91fab48c2fe.bindTooltip(\n",
       "    function(layer){\n",
       "    let div = L.DomUtil.create(&#x27;div&#x27;);\n",
       "    \n",
       "    let handleObject = feature=&gt;typeof(feature)==&#x27;object&#x27; ? JSON.stringify(feature) : feature;\n",
       "    let fields = [&quot;tellus:pointing_angle&quot;, &quot;processing:level&quot;, &quot;sat:relative_orbit&quot;, &quot;start_datetime&quot;, &quot;end_datetime&quot;, &quot;tellus:name&quot;, &quot;tellus:bands&quot;, &quot;created&quot;, &quot;tellus:can_ordered&quot;, &quot;tellus:sat_frame&quot;, &quot;tellus:published_datetime&quot;, &quot;sat:orbit_state&quot;, &quot;eo:cloud_cover&quot;, &quot;gsd&quot;, &quot;updated&quot;];\n",
       "    let aliases = [&quot;tellus:pointing_angle&quot;, &quot;processing:level&quot;, &quot;sat:relative_orbit&quot;, &quot;start_datetime&quot;, &quot;end_datetime&quot;, &quot;tellus:name&quot;, &quot;tellus:bands&quot;, &quot;created&quot;, &quot;tellus:can_ordered&quot;, &quot;tellus:sat_frame&quot;, &quot;tellus:published_datetime&quot;, &quot;sat:orbit_state&quot;, &quot;eo:cloud_cover&quot;, &quot;gsd&quot;, &quot;updated&quot;];\n",
       "    let table = &#x27;&lt;table&gt;&#x27; +\n",
       "        String(\n",
       "        fields.map(\n",
       "        (v,i)=&gt;\n",
       "        `&lt;tr&gt;\n",
       "            &lt;th&gt;${aliases[i]}&lt;/th&gt;\n",
       "            \n",
       "            &lt;td&gt;${handleObject(layer.feature.properties[v])}&lt;/td&gt;\n",
       "        &lt;/tr&gt;`).join(&#x27;&#x27;))\n",
       "    +&#x27;&lt;/table&gt;&#x27;;\n",
       "    div.innerHTML=table;\n",
       "    \n",
       "    return div\n",
       "    }\n",
       "    ,{&quot;className&quot;: &quot;foliumtooltip&quot;, &quot;sticky&quot;: true});\n",
       "                     \n",
       "&lt;/script&gt;\n",
       "&lt;/html&gt;\" style=\"position:absolute;width:100%;height:100%;left:0;top:0;border:none !important;\" allowfullscreen webkitallowfullscreen mozallowfullscreen></iframe></div></div>"
      ],
      "text/plain": [
       "<folium.folium.Map at 0x29e8e2ad0>"
      ]
     },
     "execution_count": 10,
     "metadata": {},
     "output_type": "execute_result"
    }
   ],
   "source": [
    "search_results_gdf.set_crs(epsg=4326).explore(\"tellus:name\")"
   ]
  }
 ],
 "metadata": {
  "kernelspec": {
   "display_name": ".venv",
   "language": "python",
   "name": "python3"
  },
  "language_info": {
   "codemirror_mode": {
    "name": "ipython",
    "version": 3
   },
   "file_extension": ".py",
   "mimetype": "text/x-python",
   "name": "python",
   "nbconvert_exporter": "python",
   "pygments_lexer": "ipython3",
   "version": "3.11.5"
  },
  "orig_nbformat": 4
 },
 "nbformat": 4,
 "nbformat_minor": 2
}
